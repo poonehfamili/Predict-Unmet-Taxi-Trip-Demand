{
 "cells": [
  {
   "cell_type": "code",
   "execution_count": 1,
   "metadata": {},
   "outputs": [
    {
     "name": "stderr",
     "output_type": "stream",
     "text": [
      "C:\\Users\\pf910\\Anaconda2\\lib\\site-packages\\sklearn\\cross_validation.py:44: DeprecationWarning: This module was deprecated in version 0.18 in favor of the model_selection module into which all the refactored classes and functions are moved. Also note that the interface of the new CV iterators are different from that of this module. This module will be removed in 0.20.\n",
      "  \"This module will be removed in 0.20.\", DeprecationWarning)\n"
     ]
    }
   ],
   "source": [
    "from __future__ import print_function\n",
    "import pandas as pd\n",
    "import numpy as np\n",
    "from sklearn import datasets\n",
    "from sklearn.model_selection import train_test_split\n",
    "from sklearn.model_selection import GridSearchCV\n",
    "from sklearn.metrics import classification_report\n",
    "from sklearn.ensemble import RandomForestRegressor"
   ]
  },
  {
   "cell_type": "code",
   "execution_count": 121,
   "metadata": {
    "collapsed": true
   },
   "outputs": [],
   "source": [
    "wday = pd.read_csv(\"Scaled_feature_pickup.csv\")"
   ]
  },
  {
   "cell_type": "code",
   "execution_count": 122,
   "metadata": {
    "collapsed": true
   },
   "outputs": [],
   "source": [
    "nopickup = pd.read_csv(\"PhaseI_Labels_all.csv\")\n",
    "wday = wday.merge(nopickup, on= \"BoroCT2010\", how = \"inner\")"
   ]
  },
  {
   "cell_type": "markdown",
   "metadata": {},
   "source": [
    "###  RF Predition "
   ]
  },
  {
   "cell_type": "code",
   "execution_count": 5,
   "metadata": {
    "collapsed": true
   },
   "outputs": [],
   "source": [
    "regressor = RandomForestRegressor()\n",
    "gr = GridSearchCV(regressor, param_grid={'max_depth': range(1,22)})"
   ]
  },
  {
   "cell_type": "code",
   "execution_count": 10,
   "metadata": {},
   "outputs": [
    {
     "name": "stderr",
     "output_type": "stream",
     "text": [
      "C:\\Users\\pf910\\Anaconda2\\lib\\site-packages\\ipykernel_launcher.py:48: SettingWithCopyWarning: \n",
      "A value is trying to be set on a copy of a slice from a DataFrame.\n",
      "Try using .loc[row_indexer,col_indexer] = value instead\n",
      "\n",
      "See the caveats in the documentation: http://pandas.pydata.org/pandas-docs/stable/indexing.html#indexing-view-versus-copy\n",
      "C:\\Users\\pf910\\Anaconda2\\lib\\site-packages\\ipykernel_launcher.py:56: SettingWithCopyWarning: \n",
      "A value is trying to be set on a copy of a slice from a DataFrame.\n",
      "Try using .loc[row_indexer,col_indexer] = value instead\n",
      "\n",
      "See the caveats in the documentation: http://pandas.pydata.org/pandas-docs/stable/indexing.html#indexing-view-versus-copy\n"
     ]
    }
   ],
   "source": [
    "p = []\n",
    "f = []\n",
    "rs = []\n",
    "q = []\n",
    "n = []\n",
    "nodata = []\n",
    "wday1 = pd.DataFrame()\n",
    "satisfied = pd.DataFrame()\n",
    "demanded = pd.DataFrame()\n",
    "nopickup_x = pd.DataFrame()\n",
    "satisfied_x = pd.DataFrame()\n",
    "satisfied_y = pd.DataFrame()\n",
    "demanded_x = pd.DataFrame()\n",
    "\n",
    "\n",
    "for i in range(13, 24):\n",
    "    r= 0\n",
    "    rf_gr = 0\n",
    "    wday1 = wday[(wday.iloc[:,i+16]!='no_pickup_value')]\n",
    "    wday1 = wday.reset_index(drop = True)\n",
    "    r  = np.percentile(wday.iloc[:,i].fillna(0).values, 96)\n",
    "    wday1 = wday1[wday1.iloc[:,i]<r]#Removing outliers\n",
    "    wday1.iloc[:,i] = wday1.iloc[:,i]/2\n",
    "    p.append(wday1.iloc[:,i].sum())\n",
    "    satisfied = wday1[wday1.iloc[:,i+16]=='Not_Considered']\n",
    "    satisfied = satisfied.reset_index(drop = True)\n",
    "    f.append(satisfied.iloc[:,i+16].sum())\n",
    "    demanded = wday1[wday1.iloc[:,i+16]!='Not_Considered']\n",
    "    demanded =demanded.reset_index(drop = True)\n",
    "    nopickup_x = nopickup[[u'Street_betweenness_centrality_avg', u'Subway_counts_daily', u'income',\n",
    "       u'OfficeArea', u'ResArea', u'ComArea', u'RetailArea', u'safety',\n",
    "       u'pop_density', u'employee', u'rent']]\n",
    "    satisfied_x = satisfied[[ u'Street_betweenness_centrality_avg', u'Subway_counts_daily', u'income',\n",
    "       u'OfficeArea', u'ResArea', u'ComArea', u'RetailArea', u'safety',\n",
    "       u'pop_density', u'employee', u'rent']]\n",
    "    satisfied_y = satisfied.iloc[:,i]\n",
    "    dx= demanded[['BoroCT2010']]\n",
    "    demanded_x = demanded[[u'Street_betweenness_centrality_avg', u'Subway_counts_daily', u'income',\n",
    "       u'OfficeArea', u'ResArea', u'ComArea', u'RetailArea', u'safety',\n",
    "       u'pop_density', u'employee', u'rent']]\n",
    "    q.append(demanded.iloc[:,i].sum())\n",
    "    rf_gr = gr.fit(satisfied_x, satisfied_y)\n",
    "    rs.append(rf_gr.best_params_)\n",
    "    forest = 0\n",
    "    forest = regressor.fit(satisfied_x, satisfied_y)\n",
    "    pred_y1 = 0\n",
    "    pred_y1 = regressor.predict(demanded_x)\n",
    "    demanded_x['pred'+str(i)] = pred_y1\n",
    "    demanded['tripdemanded'+str(i)] = demanded_x['pred'+str(i)] - demanded.iloc[:,i]\n",
    "    demanded = demanded[demanded['tripdemanded'+str(i)]>0]\n",
    "    n.append(demanded['tripdemanded'+str(i)].sum())\n",
    "    forest = 0\n",
    "    forest = regressor.fit(satisfied_x, satisfied_y)\n",
    "    pred_y2 = 0\n",
    "    pred_y2 = regressor.predict(nopickup_x)\n",
    "    nopickup['predpickup'+str(i)] = pred_y2\n",
    "    nodata.append(nopickup['predpickup'+str(i)].sum())"
   ]
  },
  {
   "cell_type": "markdown",
   "metadata": {},
   "source": [
    "## Function to find the prediction for each time slot"
   ]
  },
  {
   "cell_type": "code",
   "execution_count": 14,
   "metadata": {
    "collapsed": true
   },
   "outputs": [],
   "source": [
    "def carto(i) :\n",
    "    \n",
    "    wday1 = wday[(wday.iloc[:,i+16]!='no_pickup_value')]\n",
    "    wday1 = wday.reset_index(drop = True)\n",
    "    r  = np.percentile(wday.iloc[:,i].fillna(0).values, 96)\n",
    "    wday1 = wday1[wday1.iloc[:,i]<r]\n",
    "    wday1.iloc[:,i] = wday1.iloc[:,i]/2\n",
    "    p.append(wday1.iloc[:,i].sum())\n",
    "    satisfied = wday1[wday1.iloc[:,i+16]=='Not_Considered']\n",
    "    satisfied = satisfied.reset_index(drop = True)\n",
    "    demanded = wday1[wday1.iloc[:,i+16]!='Not_Considered']\n",
    "    demanded =demanded.reset_index(drop = True)\n",
    "    nopickup_x = nopickup[[u'Street_betweenness_centrality_avg', u'Subway_counts_daily', u'income',\n",
    "       u'OfficeArea', u'ResArea', u'ComArea', u'RetailArea', u'safety',\n",
    "       u'pop_density', u'employee', u'rent']]\n",
    "    satisfied_x = satisfied[[ u'Street_betweenness_centrality_avg', u'Subway_counts_daily', u'income',\n",
    "       u'OfficeArea', u'ResArea', u'ComArea', u'RetailArea', u'safety',\n",
    "       u'pop_density', u'employee', u'rent']]\n",
    "    satisfied_y = satisfied.iloc[:,i]\n",
    "    demanded_ = demanded[['BoroCT2010']]\n",
    "    demanded_x = demanded[[u'Street_betweenness_centrality_avg', u'Subway_counts_daily', u'income',\n",
    "       u'OfficeArea', u'ResArea', u'ComArea', u'RetailArea', u'safety',\n",
    "       u'pop_density', u'employee', u'rent']]\n",
    "    rf_gr = gr.fit(satisfied_x, satisfied_y)\n",
    "    forest = 0\n",
    "    forest = regressor.fit(satisfied_x, satisfied_y)\n",
    "    pred_y1 = 0\n",
    "    pred_y1 = regressor.predict(demanded_x)\n",
    "    demanded_x['pred'+str(i)] = pred_y1\n",
    "    demanded['tripdemanded'+str(i)] = demanded_x['pred'+str(i)] - demanded.iloc[:,i]\n",
    "    demanded = demanded[demanded['tripdemanded'+str(i)]>0]\n",
    "    demanded_['tripdemanded'] = demanded['tripdemanded'+str(i)]\n",
    "    forest = 0\n",
    "    forest = regressor.fit(satisfied_x, satisfied_y)\n",
    "    pred_y2 = 0\n",
    "    pred_y2 = regressor.predict(nopickup_x)\n",
    "    nopickup_ = nopickup[['BoroCT2010']]\n",
    "    nopickup_['predpickup'+str(i)] = pred_y2\n",
    "    pred_y2"
   ]
  },
  {
   "cell_type": "code",
   "execution_count": 119,
   "metadata": {
    "collapsed": true
   },
   "outputs": [],
   "source": [
    "nopickup_xin = nopickup[['BoroCT2010', u'predpickup13', u'predpickup14', u'predpickup15', u'predpickup16',u'predpickup17', u'predpickup18', u'predpickup19', u'predpickup20',u'predpickup21', u'predpickup22', u'predpickup23']]"
   ]
  },
  {
   "cell_type": "code",
   "execution_count": 30,
   "metadata": {
    "collapsed": true
   },
   "outputs": [],
   "source": [
    "wday1 = pd.DataFrame()\n",
    "satisfied = pd.DataFrame()\n",
    "demanded = pd.DataFrame()\n",
    "nopickup_x = pd.DataFrame()\n",
    "satisfied_x = pd.DataFrame()\n",
    "satisfied_y = pd.DataFrame()\n",
    "demanded_x = pd.DataFrame()"
   ]
  },
  {
   "cell_type": "code",
   "execution_count": 31,
   "metadata": {
    "collapsed": true,
    "scrolled": true
   },
   "outputs": [],
   "source": [
    "dx = pd.DataFrame(columns = [\"BoroCT2010\", \"tripdemanded\"])"
   ]
  },
  {
   "cell_type": "code",
   "execution_count": 32,
   "metadata": {
    "collapsed": true
   },
   "outputs": [],
   "source": [
    "\n",
    "def carto_trip(i):\n",
    "    r= 0\n",
    "    wday1 = wday[(wday.iloc[:,i+16]!='no_pickup_value')]\n",
    "    wday1 = wday.reset_index(drop = True)\n",
    "    r  = np.percentile(wday.iloc[:,i].fillna(0).values, 96)\n",
    "    wday1 = wday1[wday1.iloc[:,i]<r]\n",
    "    wday1.iloc[:,i] = wday1.iloc[:,i]/2\n",
    "    satisfied = wday1[wday1.iloc[:,i+16]=='Not_Considered']\n",
    "    satisfied = satisfied.reset_index(drop = True)\n",
    "    demanded = wday1[wday1.iloc[:,i+16]!='Not_Considered']\n",
    "    demanded =demanded.reset_index(drop = True)\n",
    "    satisfied_x = satisfied[[ u'Street_betweenness_centrality_avg', u'Subway_counts_daily', u'income',\n",
    "       u'OfficeArea', u'ResArea', u'ComArea', u'RetailArea', u'safety',\n",
    "       u'pop_density', u'employee', u'rent']]\n",
    "    satisfied_y = satisfied.iloc[:,i]\n",
    "    demanded_x = demanded[[u'Street_betweenness_centrality_avg', u'Subway_counts_daily', u'income',\n",
    "       u'OfficeArea', u'ResArea', u'ComArea', u'RetailArea', u'safety',\n",
    "       u'pop_density', u'employee', u'rent']]\n",
    "    forest = 0\n",
    "    forest = regressor.fit(satisfied_x, satisfied_y)\n",
    "    pred_y1 = 0\n",
    "    pred_y1 = regressor.predict(demanded_x)\n",
    "    demanded_x['pred'+str(i)] = pred_y1\n",
    "    demanded['tripdemanded'+str(i)] = demanded_x['pred'+str(i)] - demanded.iloc[:,i]\n",
    "    demanded = demanded[demanded['tripdemanded'+str(i)]>0]\n",
    "    dx= demanded[['BoroCT2010']]\n",
    "    dx['tripdemanded'+str(i)] = demanded['tripdemanded'+str(i)]\n",
    "    return(dx)"
   ]
  },
  {
   "cell_type": "markdown",
   "metadata": {},
   "source": [
    "### Finding the trip demanded for BoroCT 4122701"
   ]
  },
  {
   "cell_type": "code",
   "execution_count": 187,
   "metadata": {},
   "outputs": [
    {
     "name": "stderr",
     "output_type": "stream",
     "text": [
      "C:\\Users\\pf910\\Anaconda2\\lib\\site-packages\\ipykernel_launcher.py:24: SettingWithCopyWarning: \n",
      "A value is trying to be set on a copy of a slice from a DataFrame.\n",
      "Try using .loc[row_indexer,col_indexer] = value instead\n",
      "\n",
      "See the caveats in the documentation: http://pandas.pydata.org/pandas-docs/stable/indexing.html#indexing-view-versus-copy\n",
      "C:\\Users\\pf910\\Anaconda2\\lib\\site-packages\\ipykernel_launcher.py:28: SettingWithCopyWarning: \n",
      "A value is trying to be set on a copy of a slice from a DataFrame.\n",
      "Try using .loc[row_indexer,col_indexer] = value instead\n",
      "\n",
      "See the caveats in the documentation: http://pandas.pydata.org/pandas-docs/stable/indexing.html#indexing-view-versus-copy\n"
     ]
    }
   ],
   "source": [
    "l=[]\n",
    "for i in range (13, 24):\n",
    "    dx1 = carto_trip(i)\n",
    "    l.append(dx1[dx1['BoroCT2010']==4122701]['tripdemanded'+str(i)].values)"
   ]
  },
  {
   "cell_type": "code",
   "execution_count": 188,
   "metadata": {},
   "outputs": [
    {
     "data": {
      "text/plain": [
       "[array([ 356.9]),\n",
       " array([ 898.9]),\n",
       " array([ 1023.05]),\n",
       " array([ 396.15]),\n",
       " array([ 408.]),\n",
       " array([ 1691.8]),\n",
       " array([ 670.55]),\n",
       " array([ 24.3]),\n",
       " array([ 381.3]),\n",
       " array([ 72.3]),\n",
       " array([ 230.4])]"
      ]
     },
     "execution_count": 188,
     "metadata": {},
     "output_type": "execute_result"
    }
   ],
   "source": [
    "l "
   ]
  },
  {
   "cell_type": "code",
   "execution_count": 189,
   "metadata": {
    "collapsed": true
   },
   "outputs": [],
   "source": [
    "#wday.iloc[['BoroCT2010']==4099704][i+16].values\n",
    "#wday.loc[wday['BoroCT2010']==4099704 ,i+16]\n",
    "wday2 = wday\n",
    "wday2 = wday2.set_index(['BoroCT2010'])"
   ]
  },
  {
   "cell_type": "code",
   "execution_count": 191,
   "metadata": {
    "collapsed": true
   },
   "outputs": [],
   "source": [
    "c = []\n",
    "for i in range(12,23):\n",
    "    c.append(wday2.ix[4122701][i])"
   ]
  },
  {
   "cell_type": "code",
   "execution_count": 192,
   "metadata": {},
   "outputs": [
    {
     "data": {
      "text/plain": [
       "[10.0, 7.0, 15.0, 6.0, 5.0, 12.0, 10.0, 3.0, 9.0, 0.0, 2.0]"
      ]
     },
     "execution_count": 192,
     "metadata": {},
     "output_type": "execute_result"
    }
   ],
   "source": [
    "c"
   ]
  },
  {
   "cell_type": "code",
   "execution_count": 193,
   "metadata": {
    "collapsed": true
   },
   "outputs": [],
   "source": [
    "ct_final = pd.DataFrame(columns = ['Time slot','current number of trip', 'trip demanded'])"
   ]
  },
  {
   "cell_type": "code",
   "execution_count": 194,
   "metadata": {
    "collapsed": true
   },
   "outputs": [],
   "source": [
    "ct_final['Time slot'] = e\n",
    "ct_final['current number of trip'] = c\n",
    "ct_final['trip demanded'] = l"
   ]
  },
  {
   "cell_type": "code",
   "execution_count": 195,
   "metadata": {
    "collapsed": true
   },
   "outputs": [],
   "source": [
    "ct_final['trip demanded'] = ct_final['trip demanded'].astype(str)"
   ]
  },
  {
   "cell_type": "code",
   "execution_count": 196,
   "metadata": {
    "collapsed": true
   },
   "outputs": [],
   "source": [
    "ct_final['trip demanded'] = (ct_final['trip demanded'].str[1:-1])"
   ]
  },
  {
   "cell_type": "code",
   "execution_count": 198,
   "metadata": {
    "collapsed": true
   },
   "outputs": [],
   "source": [
    "ct_final.to_csv(\"bc4122701.csv\")"
   ]
  },
  {
   "cell_type": "markdown",
   "metadata": {},
   "source": [
    "### Creating dataset for total number of predictions"
   ]
  },
  {
   "cell_type": "code",
   "execution_count": 20,
   "metadata": {
    "collapsed": true
   },
   "outputs": [],
   "source": [
    "finaltable = pd.DataFrame(columns = {'time slot','current number of trips',\n",
    "                                     'trip demanded in under served areas','current number of trip in underserved areas'\n",
    "                                     , 'prediction of trips in no data areas', 'percentage of demanded trip'})\n",
    "e = wday.columns.tolist()[13:24]\n",
    "len(e)"
   ]
  },
  {
   "cell_type": "code",
   "execution_count": 22,
   "metadata": {
    "collapsed": true
   },
   "outputs": [],
   "source": [
    "finaltable['time slot'] = e"
   ]
  },
  {
   "cell_type": "code",
   "execution_count": 23,
   "metadata": {
    "collapsed": true
   },
   "outputs": [],
   "source": [
    "finaltable['trip demanded in under served areas'] = n\n",
    "finaltable['prediction of trips in no data areas'] = nodata\n",
    "finaltable['current number of trips'] = p\n",
    "finaltable['current number of trip in underserved areas'] = q\n",
    "finaltable['percentage of demanded trip'] = (finaltable['trip demanded in under served areas']/\n",
    "                                             finaltable['current number of trips'])*100"
   ]
  },
  {
   "cell_type": "code",
   "execution_count": 28,
   "metadata": {},
   "outputs": [
    {
     "data": {
      "text/html": [
       "<div>\n",
       "<style>\n",
       "    .dataframe thead tr:only-child th {\n",
       "        text-align: right;\n",
       "    }\n",
       "\n",
       "    .dataframe thead th {\n",
       "        text-align: left;\n",
       "    }\n",
       "\n",
       "    .dataframe tbody tr th {\n",
       "        vertical-align: top;\n",
       "    }\n",
       "</style>\n",
       "<table border=\"1\" class=\"dataframe\">\n",
       "  <thead>\n",
       "    <tr style=\"text-align: right;\">\n",
       "      <th></th>\n",
       "      <th>current number of trip in underserved areas</th>\n",
       "      <th>current number of trips</th>\n",
       "      <th>prediction of trips in no data areas</th>\n",
       "      <th>trip demanded in under served areas</th>\n",
       "      <th>time slot</th>\n",
       "      <th>percentage of demanded trip</th>\n",
       "    </tr>\n",
       "  </thead>\n",
       "  <tbody>\n",
       "    <tr>\n",
       "      <th>0</th>\n",
       "      <td>1546.5</td>\n",
       "      <td>293213.0</td>\n",
       "      <td>1055.3</td>\n",
       "      <td>23324.7</td>\n",
       "      <td>wd00_06</td>\n",
       "      <td>7.954866</td>\n",
       "    </tr>\n",
       "    <tr>\n",
       "      <th>1</th>\n",
       "      <td>1175.0</td>\n",
       "      <td>420617.5</td>\n",
       "      <td>703.9</td>\n",
       "      <td>23534.8</td>\n",
       "      <td>wd06_10</td>\n",
       "      <td>5.595297</td>\n",
       "    </tr>\n",
       "  </tbody>\n",
       "</table>\n",
       "</div>"
      ],
      "text/plain": [
       "   current number of trip in underserved areas  current number of trips  \\\n",
       "0                                       1546.5                 293213.0   \n",
       "1                                       1175.0                 420617.5   \n",
       "\n",
       "   prediction of trips in no data areas  trip demanded in under served areas  \\\n",
       "0                                1055.3                              23324.7   \n",
       "1                                 703.9                              23534.8   \n",
       "\n",
       "  time slot  percentage of demanded trip  \n",
       "0   wd00_06                     7.954866  \n",
       "1   wd06_10                     5.595297  "
      ]
     },
     "execution_count": 28,
     "metadata": {},
     "output_type": "execute_result"
    }
   ],
   "source": [
    "finaltable.head(2)"
   ]
  },
  {
   "cell_type": "code",
   "execution_count": 29,
   "metadata": {
    "collapsed": true
   },
   "outputs": [],
   "source": [
    "finaltable.to_csv(\"final.csv\")"
   ]
  }
 ],
 "metadata": {
  "kernelspec": {
   "display_name": "Python 3",
   "language": "python",
   "name": "python3"
  },
  "language_info": {
   "codemirror_mode": {
    "name": "ipython",
    "version": 3
   },
   "file_extension": ".py",
   "mimetype": "text/x-python",
   "name": "python",
   "nbconvert_exporter": "python",
   "pygments_lexer": "ipython3",
   "version": "3.6.1"
  }
 },
 "nbformat": 4,
 "nbformat_minor": 2
}
